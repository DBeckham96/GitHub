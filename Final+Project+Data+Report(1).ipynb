{
 "cells": [
  {
   "cell_type": "markdown",
   "metadata": {},
   "source": [
    "### Final Proposal: The Effect of Demographic Make-up on Quality of Education for Elementary and High School Students"
   ]
  },
  {
   "cell_type": "markdown",
   "metadata": {},
   "source": [
    "Principal Investigator: Demetrius Beckham\n",
    "\n",
    "\n",
    "Email: dab614@stern.nyu.edu "
   ]
  },
  {
   "cell_type": "markdown",
   "metadata": {},
   "source": [
    "This project will study how the racial make-up of a school can come to effect the quality of education students recieve. Three factors that will be observed to gauge quality are disciplinary actions, Advanced Placement test taking and the finances given to schools. The data spans from 2000 to 2015. This project will describe and visualize the variables that encourage a difference in education quality."
   ]
  },
  {
   "cell_type": "markdown",
   "metadata": {},
   "source": [
    "The key element of the project is the use of ED.gov's Civil Rights Data Collection. The database provides access to a plethora of information on student demographics found at thousands of schools (elementary and high school) across the US. Details of the selected data sets can be found in the data report below."
   ]
  },
  {
   "cell_type": "markdown",
   "metadata": {},
   "source": [
    "The project will take the form of three sections."
   ]
  },
  {
   "cell_type": "markdown",
   "metadata": {},
   "source": [
    "* Observation of the demographic make up of schools in Newark, NJ (the school district I grew up in), Livingston, NJ (one of the top-ranked school districts in NJ), and Atlanta, GA (a larger selection pool with more variance).\n",
    "\n",
    "\n",
    "\n",
    "* Assessing the differences in disciplinary actions, AP test taking and finances given to schools, amongst the 3 school districts. This will include comparative visualizations.\n",
    "\n",
    "\n",
    "\n",
    "* Discerning whether the demographic make-up of schools does play a drastic role in the overall quality of education a student is recieving."
   ]
  },
  {
   "cell_type": "markdown",
   "metadata": {},
   "source": [
    "### Data Report"
   ]
  },
  {
   "cell_type": "markdown",
   "metadata": {},
   "source": [
    "Overview: The data involved in this project has been made publicily available by ED.gov, under its Civil Rights Data Collection service. There is a plethora of categories available including: Enrollment Data, Completion and Retention, Discipline of Students without Disabilities, and more."
   ]
  },
  {
   "cell_type": "markdown",
   "metadata": {},
   "source": [
    "Important Considerations: The enrollement data that will be observed displays the racial composition of student bodies. The races included are American Indian, Asian, Hawaiian/Pacific Islander, Hispanic, Black, White and Two or More Races. The data has been collected anywhere from the year 2000 to 2015."
   ]
  },
  {
   "cell_type": "markdown",
   "metadata": {},
   "source": [
    "The specific school districts were selected for the following reasons:"
   ]
  },
  {
   "cell_type": "markdown",
   "metadata": {},
   "source": [
    "* I spent the majority of my childhood years, including elementary, middle and high school, attending Newark Public Schools. Newark, NJ is a city that has ammassed a fairly negative public perception for its supposed high crime and poverty rates, and lackluster education system. It's important to discuss why these supposed unbreakable cycles of continued for decades on end. Education is a great way to assess and determine effective change in society.\n",
    "\n",
    "\n",
    "* Livingston, NJ School District is regarded as one of the best in the state of NJ. It provides a nice contrast to the aforementioned Newark Public Schools system. It will be interesting to see how the demographic contrast of school in Livingston impacts quality of education versus that in Newark.\n",
    "\n",
    "\n",
    "* Atlanta, GA is home to a massive education system. This data will provide a larger sample to determine the conclusions desired regarding quality of education."
   ]
  },
  {
   "cell_type": "markdown",
   "metadata": {},
   "source": [
    "Below I bring in the packages needed:"
   ]
  },
  {
   "cell_type": "code",
   "execution_count": 2,
   "metadata": {
    "collapsed": true
   },
   "outputs": [],
   "source": [
    "from IPython.display import display, Image\n",
    "import csv\n",
    "import pandas as pd \n",
    "import numpy as np\n",
    "import xlrd\n",
    "import matplotlib.pyplot as plt"
   ]
  },
  {
   "cell_type": "markdown",
   "metadata": {},
   "source": [
    "### Importing School Enrollment Data"
   ]
  },
  {
   "cell_type": "markdown",
   "metadata": {},
   "source": [
    "First, data from Newark Public Schools."
   ]
  },
  {
   "cell_type": "code",
   "execution_count": 11,
   "metadata": {
    "collapsed": true,
    "scrolled": true
   },
   "outputs": [],
   "source": [
    "url_newark = \"https://github.com/DBeckham96/GitHub/blob/master/Newark%20Enrollment.csv\"\n",
    "df = pd.read_csv(url_newark)"
   ]
  },
  {
   "cell_type": "markdown",
   "metadata": {
    "collapsed": true
   },
   "source": [
    "Next, we observe enrollment data for Livingston school district."
   ]
  },
  {
   "cell_type": "code",
   "execution_count": 12,
   "metadata": {
    "collapsed": true
   },
   "outputs": [],
   "source": [
    "url_livingston = \"https://github.com/DBeckham96/GitHub/blob/master/Livingston%20Enrollment.csv\"\n",
    "livingston = pd.read_csv(url_livingston)"
   ]
  },
  {
   "cell_type": "markdown",
   "metadata": {},
   "source": [
    "Finally, we export the data of a large and varying school district. In this case, Atlanta, GA."
   ]
  },
  {
   "cell_type": "code",
   "execution_count": 13,
   "metadata": {
    "collapsed": true
   },
   "outputs": [],
   "source": [
    "url_atlanta = \"https://github.com/DBeckham96/GitHub/blob/master/Atlanta%20Enrollment.csv\"\n",
    "atlanta = pd.read_csv(url_atlanta)"
   ]
  },
  {
   "cell_type": "markdown",
   "metadata": {},
   "source": [
    "### Quality of Education"
   ]
  },
  {
   "cell_type": "markdown",
   "metadata": {},
   "source": [
    "In this study, we aim to deduce that a quality education is based on the results of a school districts (i) Disciplinary actions, (ii) AP test taking, and (iii) Finances given to schools."
   ]
  },
  {
   "cell_type": "markdown",
   "metadata": {},
   "source": [
    "A comparison is drawn between the disciplinary actions of Newark Public Schools versus Livingston Public Schools. "
   ]
  },
  {
   "cell_type": "markdown",
   "metadata": {},
   "source": [
    "*Commentary on the comparison of disciplinary acts. Maybe a bar diagram*"
   ]
  },
  {
   "cell_type": "code",
   "execution_count": 14,
   "metadata": {
    "collapsed": true
   },
   "outputs": [],
   "source": [
    "newark_discipline = \"https://github.com/DBeckham96/GitHub/blob/master/Newark_Discipline.csv\"\n",
    "livingston_discipline = \"https://github.com/DBeckham96/GitHub/blob/master/Livingston%20Discipline.csv\"\n",
    "atlanta_discipline = \"https://github.com/DBeckham96/GitHub/blob/master/Atlanta%20Discipline.csv\" #too large"
   ]
  },
  {
   "cell_type": "code",
   "execution_count": null,
   "metadata": {
    "collapsed": true
   },
   "outputs": [],
   "source": [
    "nd = pd.read_csv(newark_discipline)\n",
    "\n",
    "ld = pd.read_csv(livingston_discipline)\n",
    "## Comparison of Newark and Livingston Disciplinary history"
   ]
  },
  {
   "cell_type": "code",
   "execution_count": null,
   "metadata": {
    "collapsed": true
   },
   "outputs": [],
   "source": [
    "ad = pd.read_csv(atlanta_discipline)"
   ]
  },
  {
   "cell_type": "markdown",
   "metadata": {},
   "source": [
    "The comparisons would reveal the differences in disciplinary actions across the aformentioned school districs. Based off the observed data, it is likely that Atlanta schools will be cited for more disciplinary rulings, due to the number of students that attend. But still, Newark schools would likely show an increasing numner of discpline rulings based off its skewed demographic. One may inform the result of the other, but the data will support the determing factors. Further, due to Livingston's ranking as a top school district in NJ, we expect to see less disciplinary rulings."
   ]
  },
  {
   "cell_type": "markdown",
   "metadata": {},
   "source": [
    "The question then is why these results?"
   ]
  },
  {
   "cell_type": "code",
   "execution_count": null,
   "metadata": {
    "collapsed": true
   },
   "outputs": [],
   "source": [
    "newark_ap = \"https://github.com/DBeckham96/GitHub/blob/master/Newark%20AP.csv\"\n",
    "livingston_ap = \"https://github.com/DBeckham96/GitHub/blob/master/Livingston%20AP.csv\"\n",
    "atlanta_ap = \"https://github.com/DBeckham96/GitHub/blob/master/Atlanta%20AP.csv\""
   ]
  },
  {
   "cell_type": "code",
   "execution_count": null,
   "metadata": {},
   "outputs": [],
   "source": [
    "nap = pd.read_csv(newark_ap)\n",
    "\n",
    "lap = pd.read_csv(living_ap)\n",
    "\n",
    "aap = pd.read_csv(atlanta_ap)\n",
    "\n",
    "## Comparison of Newark, Livingston and Atlanta AP test taking"
   ]
  },
  {
   "cell_type": "markdown",
   "metadata": {},
   "source": [
    "The data from AP test taking will reveal the weight school districs place on college-preparedness exams. This is a proper indication of the quality of education but is also revealing of the difference in class offerings based on the demographic make up of schools."
   ]
  },
  {
   "cell_type": "code",
   "execution_count": null,
   "metadata": {
    "collapsed": true
   },
   "outputs": [],
   "source": [
    "newark_finance = \"https://github.com/DBeckham96/GitHub/blob/master/Newark%20Finances.csv\"\n",
    "livingston_finance = \"https://github.com/DBeckham96/GitHub/blob/master/Livingston%20Finances.csv\"\n",
    "atlanta_finance = \"https://github.com/DBeckham96/GitHub/blob/master/Atlanta%20Finances.csv\""
   ]
  },
  {
   "cell_type": "code",
   "execution_count": null,
   "metadata": {
    "collapsed": true
   },
   "outputs": [],
   "source": [
    "nfin = pd.read_csv(newark_finance)\n",
    "\n",
    "lfin = pd.read_csv(living_finance)\n",
    "\n",
    "afin = pd.read_csv(atlanta_finance)\n",
    "\n",
    "## Comparison of Newark, Livingston and Atlanta AP test taking"
   ]
  },
  {
   "cell_type": "markdown",
   "metadata": {},
   "source": [
    "### Summary"
   ]
  },
  {
   "cell_type": "markdown",
   "metadata": {},
   "source": [
    "The comparisons will hopefully provide us with a sufficient amount of data to support the claim that the demographics of a school district are directly correlated to the quality of education offered. Which one influences the other?"
   ]
  },
  {
   "cell_type": "code",
   "execution_count": null,
   "metadata": {
    "collapsed": true
   },
   "outputs": [],
   "source": []
  }
 ],
 "metadata": {
  "kernelspec": {
   "display_name": "Python 3",
   "language": "python",
   "name": "python3"
  },
  "language_info": {
   "codemirror_mode": {
    "name": "ipython",
    "version": 3
   },
   "file_extension": ".py",
   "mimetype": "text/x-python",
   "name": "python",
   "nbconvert_exporter": "python",
   "pygments_lexer": "ipython3",
   "version": "3.6.3"
  }
 },
 "nbformat": 4,
 "nbformat_minor": 2
}
